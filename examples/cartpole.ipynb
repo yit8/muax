{
  "cells": [
    {
      "cell_type": "code",
      "source": [
        "# Step 1: Clone and install\n",
        "!git clone https://github.com/yit8/muax.git\n",
        "%cd /content/muax\n",
        "!pip install -e .\n",
        "!pip install dm-acme dm-env jax jaxlib\n",
        "\n",
        "# Step 2: Restart the runtime (Runtime → Restart runtime)\n",
        "\n",
        "# Step 3: Import with corrected paths\n",
        "import muax\n",
        "from muax.frameworks.coax.episode_tracer import PNStep\n",
        "from muax.frameworks.coax.replay_buffer import TrajectoryReplayBuffer\n",
        "\n",
        "# Step 4: Use the classes\n",
        "# tracer = PNStep(n_step=10, gamma=0.99, lambda_=0.5)\n",
        "# buffer = TrajectoryReplayBuffer(500)"
      ],
      "metadata": {
        "id": "fPwv9nyLuY6n",
        "outputId": "c4e04dd9-22c3-4ddd-c078-43cf34f2cb83",
        "colab": {
          "base_uri": "https://localhost:8080/",
          "height": 992
        }
      },
      "execution_count": 23,
      "outputs": [
        {
          "output_type": "stream",
          "name": "stdout",
          "text": [
            "fatal: destination path 'muax' already exists and is not an empty directory.\n",
            "/content/muax\n",
            "Obtaining file:///content/muax\n",
            "  Preparing metadata (setup.py) ... \u001b[?25l\u001b[?25hdone\n",
            "Requirement already satisfied: mctx in /usr/local/lib/python3.11/dist-packages (from muax==0.1.0) (0.0.5)\n",
            "Requirement already satisfied: dm-haiku in /usr/local/lib/python3.11/dist-packages (from muax==0.1.0) (0.0.13)\n",
            "Requirement already satisfied: optax in /usr/local/lib/python3.11/dist-packages (from muax==0.1.0) (0.2.4)\n",
            "Requirement already satisfied: gymnasium in /usr/local/lib/python3.11/dist-packages (from muax==0.1.0) (1.0.0)\n",
            "Requirement already satisfied: lz4 in /usr/local/lib/python3.11/dist-packages (from muax==0.1.0) (4.4.3)\n",
            "Requirement already satisfied: tensorboardX in /usr/local/lib/python3.11/dist-packages (from muax==0.1.0) (2.6.2.2)\n",
            "Requirement already satisfied: absl-py>=0.7.1 in /usr/local/lib/python3.11/dist-packages (from dm-haiku->muax==0.1.0) (1.4.0)\n",
            "Requirement already satisfied: jmp>=0.0.2 in /usr/local/lib/python3.11/dist-packages (from dm-haiku->muax==0.1.0) (0.0.4)\n",
            "Requirement already satisfied: numpy>=1.18.0 in /usr/local/lib/python3.11/dist-packages (from dm-haiku->muax==0.1.0) (1.26.4)\n",
            "Requirement already satisfied: tabulate>=0.8.9 in /usr/local/lib/python3.11/dist-packages (from dm-haiku->muax==0.1.0) (0.9.0)\n",
            "Requirement already satisfied: cloudpickle>=1.2.0 in /usr/local/lib/python3.11/dist-packages (from gymnasium->muax==0.1.0) (3.1.1)\n",
            "Requirement already satisfied: typing-extensions>=4.3.0 in /usr/local/lib/python3.11/dist-packages (from gymnasium->muax==0.1.0) (4.12.2)\n",
            "Requirement already satisfied: farama-notifications>=0.0.1 in /usr/local/lib/python3.11/dist-packages (from gymnasium->muax==0.1.0) (0.0.4)\n",
            "Requirement already satisfied: chex>=0.0.8 in /usr/local/lib/python3.11/dist-packages (from mctx->muax==0.1.0) (0.1.88)\n",
            "Requirement already satisfied: jax>=0.1.55 in /usr/local/lib/python3.11/dist-packages (from mctx->muax==0.1.0) (0.5.0)\n",
            "Requirement already satisfied: jaxlib>=0.1.37 in /usr/local/lib/python3.11/dist-packages (from mctx->muax==0.1.0) (0.5.0)\n",
            "Requirement already satisfied: etils[epy] in /usr/local/lib/python3.11/dist-packages (from optax->muax==0.1.0) (1.11.0)\n",
            "Requirement already satisfied: packaging in /usr/local/lib/python3.11/dist-packages (from tensorboardX->muax==0.1.0) (24.2)\n",
            "Requirement already satisfied: protobuf>=3.20 in /usr/local/lib/python3.11/dist-packages (from tensorboardX->muax==0.1.0) (4.25.6)\n",
            "Requirement already satisfied: toolz>=0.9.0 in /usr/local/lib/python3.11/dist-packages (from chex>=0.0.8->mctx->muax==0.1.0) (0.12.1)\n",
            "Requirement already satisfied: ml_dtypes>=0.4.0 in /usr/local/lib/python3.11/dist-packages (from jax>=0.1.55->mctx->muax==0.1.0) (0.4.1)\n",
            "Requirement already satisfied: opt_einsum in /usr/local/lib/python3.11/dist-packages (from jax>=0.1.55->mctx->muax==0.1.0) (3.4.0)\n",
            "Requirement already satisfied: scipy>=1.11.1 in /usr/local/lib/python3.11/dist-packages (from jax>=0.1.55->mctx->muax==0.1.0) (1.13.1)\n",
            "Installing collected packages: muax\n",
            "  Attempting uninstall: muax\n",
            "    Found existing installation: muax 0.1.0\n",
            "    Uninstalling muax-0.1.0:\n",
            "      Successfully uninstalled muax-0.1.0\n",
            "  Running setup.py develop for muax\n",
            "Successfully installed muax-0.1.0\n",
            "Requirement already satisfied: dm-acme in /usr/local/lib/python3.11/dist-packages (0.2.4)\n",
            "Requirement already satisfied: dm-env in /usr/local/lib/python3.11/dist-packages (1.6)\n",
            "Requirement already satisfied: jax in /usr/local/lib/python3.11/dist-packages (0.5.0)\n",
            "Requirement already satisfied: jaxlib in /usr/local/lib/python3.11/dist-packages (0.5.0)\n",
            "Requirement already satisfied: absl-py in /usr/local/lib/python3.11/dist-packages (from dm-acme) (1.4.0)\n",
            "Requirement already satisfied: dm-tree in /usr/local/lib/python3.11/dist-packages (from dm-acme) (0.1.8)\n",
            "Requirement already satisfied: numpy in /usr/local/lib/python3.11/dist-packages (from dm-acme) (1.26.4)\n",
            "Requirement already satisfied: pillow in /usr/local/lib/python3.11/dist-packages (from dm-acme) (11.1.0)\n",
            "Requirement already satisfied: typing-extensions in /usr/local/lib/python3.11/dist-packages (from dm-acme) (4.12.2)\n",
            "Requirement already satisfied: ml_dtypes>=0.4.0 in /usr/local/lib/python3.11/dist-packages (from jax) (0.4.1)\n",
            "Requirement already satisfied: opt_einsum in /usr/local/lib/python3.11/dist-packages (from jax) (3.4.0)\n",
            "Requirement already satisfied: scipy>=1.11.1 in /usr/local/lib/python3.11/dist-packages (from jax) (1.13.1)\n"
          ]
        },
        {
          "output_type": "error",
          "ename": "TypeError",
          "evalue": "PNStep.__init__() got an unexpected keyword argument 'n_step'",
          "traceback": [
            "\u001b[0;31m---------------------------------------------------------------------------\u001b[0m",
            "\u001b[0;31mTypeError\u001b[0m                                 Traceback (most recent call last)",
            "\u001b[0;32m<ipython-input-23-3af1fb1e69bd>\u001b[0m in \u001b[0;36m<cell line: 0>\u001b[0;34m()\u001b[0m\n\u001b[1;32m     13\u001b[0m \u001b[0;34m\u001b[0m\u001b[0m\n\u001b[1;32m     14\u001b[0m \u001b[0;31m# Step 4: Use the classes\u001b[0m\u001b[0;34m\u001b[0m\u001b[0;34m\u001b[0m\u001b[0m\n\u001b[0;32m---> 15\u001b[0;31m \u001b[0mtracer\u001b[0m \u001b[0;34m=\u001b[0m \u001b[0mPNStep\u001b[0m\u001b[0;34m(\u001b[0m\u001b[0mn_step\u001b[0m\u001b[0;34m=\u001b[0m\u001b[0;36m10\u001b[0m\u001b[0;34m,\u001b[0m \u001b[0mgamma\u001b[0m\u001b[0;34m=\u001b[0m\u001b[0;36m0.99\u001b[0m\u001b[0;34m,\u001b[0m \u001b[0mlambda_\u001b[0m\u001b[0;34m=\u001b[0m\u001b[0;36m0.5\u001b[0m\u001b[0;34m)\u001b[0m\u001b[0;34m\u001b[0m\u001b[0;34m\u001b[0m\u001b[0m\n\u001b[0m\u001b[1;32m     16\u001b[0m \u001b[0mbuffer\u001b[0m \u001b[0;34m=\u001b[0m \u001b[0mTrajectoryReplayBuffer\u001b[0m\u001b[0;34m(\u001b[0m\u001b[0;36m500\u001b[0m\u001b[0;34m)\u001b[0m\u001b[0;34m\u001b[0m\u001b[0;34m\u001b[0m\u001b[0m\n",
            "\u001b[0;31mTypeError\u001b[0m: PNStep.__init__() got an unexpected keyword argument 'n_step'"
          ]
        }
      ]
    },
    {
      "cell_type": "code",
      "execution_count": 24,
      "metadata": {
        "id": "8FXcnXniIXRp"
      },
      "outputs": [],
      "source": [
        "# !pip install muax\n",
        "# !git clone https://github.com/yit8/muax.git\n",
        "# !pip install --upgrade jax jaxlib  # Required for JAX (used in muax)\n",
        "# # %cd muax  # Navigate to the cloned repo\n",
        "# %cd /content/muax\n",
        "# !pip install dm-acme dm-env\n",
        "# !pip install -e .\n",
        "\n",
        "import muax"
      ]
    },
    {
      "cell_type": "code",
      "source": [
        "import muax\n",
        "!ls /content/muax/muax/frameworks/coax\n",
        "# from muax.frameworks.coax.tracer import PNStep\n",
        "# from muax.frameworks.coax.replay_buffer import TrajectoryReplayBuffer"
      ],
      "metadata": {
        "id": "Z_gUNm5GsNfh",
        "outputId": "426b92b1-305c-439e-f08b-01606b881891",
        "colab": {
          "base_uri": "https://localhost:8080/"
        }
      },
      "execution_count": 21,
      "outputs": [
        {
          "output_type": "stream",
          "name": "stdout",
          "text": [
            "episode_tracer.py  loss.py   nn.py\t  replay_buffer.py  train.py  wrappers.py\n",
            "__init__.py\t   model.py  __pycache__  test.py\t    utils.py\n"
          ]
        }
      ]
    },
    {
      "cell_type": "code",
      "source": [],
      "metadata": {
        "id": "rpwrb0ZuuXko"
      },
      "execution_count": null,
      "outputs": []
    },
    {
      "cell_type": "code",
      "execution_count": 25,
      "metadata": {
        "id": "jxpr4KvuIXRt"
      },
      "outputs": [],
      "source": [
        "import jax\n",
        "jax.config.update('jax_platform_name', 'cpu')\n",
        "\n",
        "import gymnasium as gym"
      ]
    },
    {
      "cell_type": "markdown",
      "metadata": {
        "id": "VdV2IbCGIXRu"
      },
      "source": [
        "# 1. Use `muax.fit` to fit CartPole-v1"
      ]
    },
    {
      "cell_type": "code",
      "execution_count": 26,
      "metadata": {
        "id": "KGFX2OcGIXRv"
      },
      "outputs": [],
      "source": [
        "import muax\n",
        "from muax import nn"
      ]
    },
    {
      "cell_type": "markdown",
      "metadata": {
        "id": "_x4CU6COIXRw"
      },
      "source": [
        "`muax` provides example `representation`, `prediction` and `dynamic` modules"
      ]
    },
    {
      "cell_type": "code",
      "execution_count": 27,
      "metadata": {
        "id": "-3G0w2qUIXRw"
      },
      "outputs": [],
      "source": [
        "support_size = 10\n",
        "embedding_size = 8\n",
        "discount = 0.997\n",
        "num_actions = 2\n",
        "full_support_size = int(support_size * 2 + 1)\n",
        "\n",
        "repr_fn = nn._init_representation_func(nn.Representation, embedding_size)\n",
        "pred_fn = nn._init_prediction_func(nn.Prediction, num_actions, full_support_size)\n",
        "dy_fn = nn._init_dynamic_func(nn.Dynamic, embedding_size, num_actions, full_support_size)"
      ]
    },
    {
      "cell_type": "markdown",
      "metadata": {
        "id": "nHBV0UXFIXRw"
      },
      "source": [
        "Alternatively, you can use your customized models"
      ]
    },
    {
      "cell_type": "code",
      "execution_count": 34,
      "metadata": {
        "id": "BBv5cAgZIXRx"
      },
      "outputs": [],
      "source": [
        "import haiku as hk\n",
        "import jax.numpy as jnp  # Import jax.numpy as jnp\n",
        "\n",
        "\n",
        "class Representation(hk.Module):\n",
        "  def __init__(self, embedding_dim, name='representation'):\n",
        "    super().__init__(name=name)\n",
        "\n",
        "    self.repr_func = hk.Sequential([\n",
        "        hk.Linear(embedding_dim),\n",
        "        # jax.nn.elu,\n",
        "    ])\n",
        "\n",
        "  def __call__(self, obs):\n",
        "    s = self.repr_func(obs)\n",
        "    s = nn.min_max_normalize(s)\n",
        "    return s\n",
        "\n",
        "\n",
        "class Prediction(hk.Module):\n",
        "  def __init__(self, num_actions, full_support_size, name='prediction'):\n",
        "    super().__init__(name=name)\n",
        "\n",
        "    self.v_func = hk.Sequential([\n",
        "        hk.Linear(64), jax.nn.elu,\n",
        "        hk.Linear(64), jax.nn.elu,\n",
        "        hk.Linear(16), jax.nn.elu,\n",
        "        hk.Linear(full_support_size)\n",
        "    ])\n",
        "    self.pi_func = hk.Sequential([\n",
        "        hk.Linear(64), jax.nn.elu,\n",
        "        hk.Linear(64), jax.nn.elu,\n",
        "        hk.Linear(16), jax.nn.elu,\n",
        "        hk.Linear(num_actions)\n",
        "    ])\n",
        "\n",
        "  def __call__(self, s):\n",
        "    v = self.v_func(s)\n",
        "    logits = self.pi_func(s)\n",
        "    # logits = jax.nn.softmax(logits, axis=-1)\n",
        "    return v, logits\n",
        "\n",
        "\n",
        "class Dynamic(hk.Module):\n",
        "  def __init__(self, embedding_dim, num_actions, full_support_size, name='dynamic'):\n",
        "    super().__init__(name=name)\n",
        "\n",
        "    self.ns_func = hk.Sequential([\n",
        "        hk.Linear(64), jax.nn.elu,\n",
        "        hk.Linear(64), jax.nn.elu,\n",
        "        hk.Linear(16), jax.nn.elu,\n",
        "        hk.Linear(embedding_dim)\n",
        "    ])\n",
        "    self.r_func = hk.Sequential([\n",
        "        hk.Linear(64), jax.nn.elu,\n",
        "        hk.Linear(64), jax.nn.elu,\n",
        "        hk.Linear(16), jax.nn.elu,\n",
        "        hk.Linear(full_support_size)\n",
        "    ])\n",
        "    self.cat_func = jax.jit(lambda s, a:\n",
        "                            jnp.concatenate([s, jax.nn.one_hot(a, num_actions)],\n",
        "                                            axis=1)\n",
        "                            )\n",
        "\n",
        "  def __call__(self, s, a):\n",
        "    sa = self.cat_func(s, a)\n",
        "    r = self.r_func(sa)\n",
        "    ns = self.ns_func(sa)\n",
        "    ns = nn.min_max_normalize(ns)\n",
        "    return r, ns\n",
        "\n",
        "\n",
        "def init_representation_func(representation_module, embedding_dim):\n",
        "    def representation_func(obs):\n",
        "      repr_model = representation_module(embedding_dim)\n",
        "      return repr_model(obs)\n",
        "    return representation_func\n",
        "\n",
        "def init_prediction_func(prediction_module, num_actions, full_support_size):\n",
        "  def prediction_func(s):\n",
        "    pred_model = prediction_module(num_actions, full_support_size)\n",
        "    return pred_model(s)\n",
        "  return prediction_func\n",
        "\n",
        "def init_dynamic_func(dynamic_module, embedding_dim, num_actions, full_support_size):\n",
        "  def dynamic_func(s, a):\n",
        "    dy_model = dynamic_module(embedding_dim, num_actions, full_support_size)\n",
        "    return dy_model(s, a)\n",
        "  return dynamic_func"
      ]
    },
    {
      "cell_type": "code",
      "source": [
        "from muax import frameworks"
      ],
      "metadata": {
        "id": "d4WWswaHoveU"
      },
      "execution_count": 35,
      "outputs": []
    },
    {
      "cell_type": "markdown",
      "metadata": {
        "id": "GUxabY7zIXRy"
      },
      "source": [
        "`muax` has `Episode tracer` and `replay buffuer` to track and store trajectories from interacting with environments"
      ]
    },
    {
      "cell_type": "code",
      "execution_count": 36,
      "metadata": {
        "id": "OhQ3hQGCIXRy"
      },
      "outputs": [],
      "source": [
        "from muax.frameworks.coax.episode_tracer import PNStep\n",
        "from muax.frameworks.coax.replay_buffer import TrajectoryReplayBuffer\n",
        "\n",
        "tracer = PNStep(10, discount, 0.5)\n",
        "buffer = TrajectoryReplayBuffer(500)"
      ]
    },
    {
      "cell_type": "markdown",
      "metadata": {
        "id": "x_Tj7snvIXRz"
      },
      "source": [
        "`muax` leverages `optax` to update weights"
      ]
    },
    {
      "cell_type": "code",
      "execution_count": 37,
      "metadata": {
        "id": "Llw8cpKvIXRz"
      },
      "outputs": [],
      "source": [
        "from muax.frameworks.coax import model\n",
        "gradient_transform = model.optimizer(init_value=0.02, peak_value=0.02, end_value=0.0001, warmup_steps=15000, transition_steps=15000)\n",
        "# gradient_transform = optax.adam(0.02)"
      ]
    },
    {
      "cell_type": "code",
      "execution_count": 38,
      "metadata": {
        "id": "yQddR4RVnSfY"
      },
      "outputs": [],
      "source": [
        "\n",
        "i = 1\n",
        "support_size = 20\n",
        "embedding_size = 10\n",
        "full_support_size = int(support_size * 2 + 1)\n",
        "num_actions = 2\n",
        "\n",
        "repr_fn = init_representation_func(Representation, embedding_size)\n",
        "pred_fn = init_prediction_func(Prediction, num_actions, full_support_size)\n",
        "dy_fn = init_dynamic_func(Dynamic, embedding_size, num_actions, full_support_size)\n",
        "\n",
        "# tracer = muax.PNStep(50, 0.999, 0.5)\n",
        "# buffer = muax.TrajectoryReplayBuffer(500)\n",
        "\n",
        "# gradient_transform = muax.model.optimizer(init_value=0.002, peak_value=0.002, end_value=0.0005, warmup_steps=20000, transition_steps=20000)\n",
        "from muax.frameworks.coax.model import MuZero\n",
        "model = MuZero(repr_fn, pred_fn, dy_fn, policy='muzero', discount=0.999, support_size=support_size)\n"
      ]
    },
    {
      "cell_type": "code",
      "execution_count": 40,
      "metadata": {
        "id": "B6pbRyK1IXRz",
        "outputId": "dad31445-d8ed-4d01-8e2a-c92c39a02c5e",
        "colab": {
          "base_uri": "https://localhost:8080/",
          "height": 426
        }
      },
      "outputs": [
        {
          "output_type": "stream",
          "name": "stdout",
          "text": [
            "buffer warm up stage...\n",
            "start training...\n"
          ]
        },
        {
          "output_type": "error",
          "ename": "TypeError",
          "evalue": "tuple indices must be integers or slices, not str",
          "traceback": [
            "\u001b[0;31m---------------------------------------------------------------------------\u001b[0m",
            "\u001b[0;31mTypeError\u001b[0m                                 Traceback (most recent call last)",
            "\u001b[0;32m<ipython-input-40-6a7a261e6066>\u001b[0m in \u001b[0;36m<cell line: 0>\u001b[0;34m()\u001b[0m\n\u001b[1;32m      1\u001b[0m \u001b[0;32mfrom\u001b[0m \u001b[0mmuax\u001b[0m\u001b[0;34m.\u001b[0m\u001b[0mframeworks\u001b[0m\u001b[0;34m.\u001b[0m\u001b[0mcoax\u001b[0m\u001b[0;34m.\u001b[0m\u001b[0mtrain\u001b[0m \u001b[0;32mimport\u001b[0m \u001b[0mfit\u001b[0m\u001b[0;34m\u001b[0m\u001b[0;34m\u001b[0m\u001b[0m\n\u001b[1;32m      2\u001b[0m \u001b[0;34m\u001b[0m\u001b[0m\n\u001b[0;32m----> 3\u001b[0;31m model_path = fit(model, 'CartPole-v1', \n\u001b[0m\u001b[1;32m      4\u001b[0m                 \u001b[0mmax_episodes\u001b[0m\u001b[0;34m=\u001b[0m\u001b[0;36m1000\u001b[0m\u001b[0;34m,\u001b[0m\u001b[0;34m\u001b[0m\u001b[0;34m\u001b[0m\u001b[0m\n\u001b[1;32m      5\u001b[0m                 \u001b[0mmax_training_steps\u001b[0m\u001b[0;34m=\u001b[0m\u001b[0;36m50000\u001b[0m\u001b[0;34m,\u001b[0m\u001b[0;34m\u001b[0m\u001b[0;34m\u001b[0m\u001b[0m\n",
            "\u001b[0;32m/content/muax/muax/frameworks/coax/train.py\u001b[0m in \u001b[0;36mfit\u001b[0;34m(model, env_id, env, test_env, tracer, buffer, max_episodes, test_interval, num_test_episodes, max_training_steps, save_every_n_epochs, num_simulations, k_steps, buffer_warm_up, num_trajectory, sample_per_trajectory, name, tensorboard_dir, model_save_path, save_name, random_seed, temperature_fn, log_all_metrics, num_update_per_episode)\u001b[0m\n\u001b[1;32m    209\u001b[0m                                         \u001b[0msample_per_trajectory\u001b[0m\u001b[0;34m=\u001b[0m\u001b[0msample_per_trajectory\u001b[0m\u001b[0;34m,\u001b[0m\u001b[0;34m\u001b[0m\u001b[0;34m\u001b[0m\u001b[0m\n\u001b[1;32m    210\u001b[0m                                         k_steps=k_steps)\n\u001b[0;32m--> 211\u001b[0;31m       \u001b[0mloss_metric\u001b[0m \u001b[0;34m=\u001b[0m \u001b[0mmodel\u001b[0m\u001b[0;34m.\u001b[0m\u001b[0mupdate\u001b[0m\u001b[0;34m(\u001b[0m\u001b[0mtransition_batch\u001b[0m\u001b[0;34m)\u001b[0m\u001b[0;34m\u001b[0m\u001b[0;34m\u001b[0m\u001b[0m\n\u001b[0m\u001b[1;32m    212\u001b[0m       \u001b[0mtrain_loss\u001b[0m \u001b[0;34m+=\u001b[0m \u001b[0mloss_metric\u001b[0m\u001b[0;34m[\u001b[0m\u001b[0;34m'loss'\u001b[0m\u001b[0;34m]\u001b[0m\u001b[0;34m\u001b[0m\u001b[0;34m\u001b[0m\u001b[0m\n\u001b[1;32m    213\u001b[0m       \u001b[0mtraining_step\u001b[0m \u001b[0;34m+=\u001b[0m \u001b[0;36m1\u001b[0m\u001b[0;34m\u001b[0m\u001b[0;34m\u001b[0m\u001b[0m\n",
            "\u001b[0;32m/content/muax/muax/frameworks/coax/model.py\u001b[0m in \u001b[0;36mupdate\u001b[0;34m(self, batch, *args, **kwargs)\u001b[0m\n\u001b[1;32m    307\u001b[0m     \u001b[0mloss_metric\u001b[0m\u001b[0;34m:\u001b[0m \u001b[0mdict\u001b[0m\u001b[0;34m.\u001b[0m \u001b[0mThe\u001b[0m \u001b[0mkey\u001b[0m \u001b[0;32mis\u001b[0m \u001b[0;34m'loss'\u001b[0m\u001b[0;34m,\u001b[0m \u001b[0mthe\u001b[0m \u001b[0mvalue\u001b[0m \u001b[0;32mis\u001b[0m \u001b[0mfloat\u001b[0m\u001b[0;34m.\u001b[0m\u001b[0;34m\u001b[0m\u001b[0;34m\u001b[0m\u001b[0m\n\u001b[1;32m    308\u001b[0m     \"\"\"\n\u001b[0;32m--> 309\u001b[0;31m     \u001b[0mloss\u001b[0m\u001b[0;34m,\u001b[0m \u001b[0mgrads\u001b[0m \u001b[0;34m=\u001b[0m \u001b[0mjax\u001b[0m\u001b[0;34m.\u001b[0m\u001b[0mvalue_and_grad\u001b[0m\u001b[0;34m(\u001b[0m\u001b[0mself\u001b[0m\u001b[0;34m.\u001b[0m\u001b[0mloss_fn\u001b[0m\u001b[0;34m)\u001b[0m\u001b[0;34m(\u001b[0m\u001b[0mself\u001b[0m\u001b[0;34m.\u001b[0m\u001b[0m_params\u001b[0m\u001b[0;34m,\u001b[0m \u001b[0mbatch\u001b[0m\u001b[0;34m,\u001b[0m \u001b[0;34m*\u001b[0m\u001b[0margs\u001b[0m\u001b[0;34m,\u001b[0m \u001b[0;34m**\u001b[0m\u001b[0mkwargs\u001b[0m\u001b[0;34m)\u001b[0m\u001b[0;34m\u001b[0m\u001b[0;34m\u001b[0m\u001b[0m\n\u001b[0m\u001b[1;32m    310\u001b[0m     \u001b[0mself\u001b[0m\u001b[0;34m.\u001b[0m\u001b[0m_params\u001b[0m\u001b[0;34m,\u001b[0m \u001b[0mself\u001b[0m\u001b[0;34m.\u001b[0m\u001b[0m_opt_state\u001b[0m \u001b[0;34m=\u001b[0m \u001b[0mself\u001b[0m\u001b[0;34m.\u001b[0m\u001b[0m_update\u001b[0m\u001b[0;34m(\u001b[0m\u001b[0mself\u001b[0m\u001b[0;34m.\u001b[0m\u001b[0m_params\u001b[0m\u001b[0;34m,\u001b[0m \u001b[0mself\u001b[0m\u001b[0;34m.\u001b[0m\u001b[0m_opt_state\u001b[0m\u001b[0;34m,\u001b[0m \u001b[0mgrads\u001b[0m\u001b[0;34m)\u001b[0m\u001b[0;34m\u001b[0m\u001b[0;34m\u001b[0m\u001b[0m\n\u001b[1;32m    311\u001b[0m     \u001b[0mloss_metric\u001b[0m \u001b[0;34m=\u001b[0m \u001b[0;34m{\u001b[0m\u001b[0;34m'loss'\u001b[0m\u001b[0;34m:\u001b[0m \u001b[0mloss\u001b[0m\u001b[0;34m.\u001b[0m\u001b[0mitem\u001b[0m\u001b[0;34m(\u001b[0m\u001b[0;34m)\u001b[0m\u001b[0;34m}\u001b[0m\u001b[0;34m\u001b[0m\u001b[0;34m\u001b[0m\u001b[0m\n",
            "    \u001b[0;31m[... skipping hidden 30 frame]\u001b[0m\n",
            "\u001b[0;32m/content/muax/muax/frameworks/coax/loss.py\u001b[0m in \u001b[0;36mdefault_loss_fn\u001b[0;34m(muzero_instance, params, batch)\u001b[0m\n\u001b[1;32m     40\u001b[0m     \u001b[0mbatch\u001b[0m\u001b[0;34m.\u001b[0m\u001b[0mr\u001b[0m \u001b[0;34m=\u001b[0m \u001b[0mscalar_to_support\u001b[0m\u001b[0;34m(\u001b[0m\u001b[0mbatch\u001b[0m\u001b[0;34m.\u001b[0m\u001b[0mr\u001b[0m\u001b[0;34m,\u001b[0m \u001b[0mmuzero_instance\u001b[0m\u001b[0;34m.\u001b[0m\u001b[0m_support_size\u001b[0m\u001b[0;34m)\u001b[0m\u001b[0;34m.\u001b[0m\u001b[0mreshape\u001b[0m\u001b[0;34m(\u001b[0m\u001b[0mB\u001b[0m\u001b[0;34m,\u001b[0m \u001b[0mL\u001b[0m\u001b[0;34m,\u001b[0m \u001b[0;34m-\u001b[0m\u001b[0;36m1\u001b[0m\u001b[0;34m)\u001b[0m\u001b[0;34m\u001b[0m\u001b[0;34m\u001b[0m\u001b[0m\n\u001b[1;32m     41\u001b[0m     \u001b[0mbatch\u001b[0m\u001b[0;34m.\u001b[0m\u001b[0mRn\u001b[0m \u001b[0;34m=\u001b[0m \u001b[0mscalar_to_support\u001b[0m\u001b[0;34m(\u001b[0m\u001b[0mbatch\u001b[0m\u001b[0;34m.\u001b[0m\u001b[0mRn\u001b[0m\u001b[0;34m,\u001b[0m \u001b[0mmuzero_instance\u001b[0m\u001b[0;34m.\u001b[0m\u001b[0m_support_size\u001b[0m\u001b[0;34m)\u001b[0m\u001b[0;34m.\u001b[0m\u001b[0mreshape\u001b[0m\u001b[0;34m(\u001b[0m\u001b[0mB\u001b[0m\u001b[0;34m,\u001b[0m \u001b[0mL\u001b[0m\u001b[0;34m,\u001b[0m \u001b[0;34m-\u001b[0m\u001b[0;36m1\u001b[0m\u001b[0;34m)\u001b[0m\u001b[0;34m\u001b[0m\u001b[0;34m\u001b[0m\u001b[0m\n\u001b[0;32m---> 42\u001b[0;31m     \u001b[0mprint\u001b[0m\u001b[0;34m(\u001b[0m\u001b[0mparams\u001b[0m\u001b[0;34m)\u001b[0m\u001b[0;34m\u001b[0m\u001b[0;34m\u001b[0m\u001b[0m\n\u001b[0m\u001b[1;32m     43\u001b[0m     \u001b[0ms\u001b[0m \u001b[0;34m=\u001b[0m \u001b[0mmuzero_instance\u001b[0m\u001b[0;34m.\u001b[0m\u001b[0m_repr_apply\u001b[0m\u001b[0;34m(\u001b[0m\u001b[0mparams\u001b[0m\u001b[0;34m[\u001b[0m\u001b[0;34m'representation'\u001b[0m\u001b[0;34m]\u001b[0m\u001b[0;34m,\u001b[0m \u001b[0mbatch\u001b[0m\u001b[0;34m.\u001b[0m\u001b[0mobs\u001b[0m\u001b[0;34m[\u001b[0m\u001b[0;34m:\u001b[0m\u001b[0;34m,\u001b[0m \u001b[0;36m0\u001b[0m\u001b[0;34m]\u001b[0m\u001b[0;34m)\u001b[0m\u001b[0;34m\u001b[0m\u001b[0;34m\u001b[0m\u001b[0m\n\u001b[1;32m     44\u001b[0m     \u001b[0;31m# TODO: jax.lax.scan (or stay with fori_loop ?)\u001b[0m\u001b[0;34m\u001b[0m\u001b[0;34m\u001b[0m\u001b[0m\n",
            "\u001b[0;31mTypeError\u001b[0m: tuple indices must be integers or slices, not str"
          ]
        }
      ],
      "source": [
        "from muax.frameworks.coax.train import fit\n",
        "\n",
        "model_path = fit(model, 'CartPole-v1',\n",
        "                max_episodes=1000,\n",
        "                max_training_steps=50000,\n",
        "                tracer=tracer,\n",
        "                buffer=buffer,\n",
        "                k_steps=10,\n",
        "                sample_per_trajectory=1,\n",
        "                buffer_warm_up=128,\n",
        "                num_trajectory=128,\n",
        "                tensorboard_dir='/content/data/tensorboard/',\n",
        "                save_name='model_params',\n",
        "                random_seed=i,\n",
        "                log_all_metrics=True)"
      ]
    },
    {
      "cell_type": "code",
      "execution_count": null,
      "metadata": {
        "id": "Q4tJqp3rIXR0"
      },
      "outputs": [],
      "source": [
        "model_path"
      ]
    },
    {
      "cell_type": "code",
      "execution_count": null,
      "metadata": {
        "id": "Ev9Wh1mwIXR0"
      },
      "outputs": [],
      "source": [
        "model = muax.MuZero(repr_fn, pred_fn, dy_fn, policy='muzero', discount=discount,\n",
        "                    optimizer=gradient_transform, support_size=support_size)\n",
        "\n",
        "model.load(model_path)"
      ]
    },
    {
      "cell_type": "code",
      "execution_count": null,
      "metadata": {
        "id": "KsvTLhtCIXR0"
      },
      "outputs": [],
      "source": [
        "from muax.test import test\n",
        "env_id = 'CartPole-v1'\n",
        "test_env = gym.make(env_id, render_mode='rgb_array')\n",
        "test_key = jax.random.PRNGKey(0)\n",
        "test(model, test_env, test_key, num_simulations=50, num_test_episodes=100, random_seed=None)"
      ]
    },
    {
      "cell_type": "code",
      "execution_count": null,
      "metadata": {
        "id": "Vjf4pWmbVKmd"
      },
      "outputs": [],
      "source": [
        "%load_ext tensorboard\n",
        "%tensorboard --logdir=tensorboard/cartpole"
      ]
    },
    {
      "cell_type": "markdown",
      "metadata": {
        "id": "P1EkABpZIXR0"
      },
      "source": [
        "# 2. Customize"
      ]
    },
    {
      "cell_type": "markdown",
      "metadata": {
        "id": "MDcb8qM-IXR0"
      },
      "source": [
        "## 2.1 Customize the neural networks"
      ]
    },
    {
      "cell_type": "markdown",
      "metadata": {
        "id": "HgRLKasVIXR0"
      },
      "source": [
        "`muax` uses `haiku` to implement the neural networks. A tutorial for using `haiku` can be found at (link)."
      ]
    },
    {
      "cell_type": "code",
      "execution_count": null,
      "metadata": {
        "id": "G8sDcuJ2IXR1"
      },
      "outputs": [],
      "source": [
        "import haiku as hk\n",
        "\n",
        "class Representation(hk.Module):\n",
        "  def __init__(self, embedding_dim, name='representation'):\n",
        "    super().__init__(name=name)\n",
        "\n",
        "    self.repr_func = hk.Sequential([\n",
        "        hk.Linear(embedding_dim),\n",
        "        # jax.nn.elu,\n",
        "    ])\n",
        "\n",
        "  def __call__(self, obs):\n",
        "    s = self.repr_func(obs)\n",
        "    s = nn.min_max_normalize(s)\n",
        "    return s\n",
        "\n",
        "\n",
        "class Prediction(hk.Module):\n",
        "  def __init__(self, num_actions, full_support_size, name='prediction'):\n",
        "    super().__init__(name=name)\n",
        "\n",
        "    self.v_func = hk.Sequential([\n",
        "        hk.Linear(64), jax.nn.elu,\n",
        "        hk.Linear(64), jax.nn.elu,\n",
        "        hk.Linear(16), jax.nn.elu,\n",
        "        hk.Linear(full_support_size)\n",
        "    ])\n",
        "    self.pi_func = hk.Sequential([\n",
        "        hk.Linear(64), jax.nn.elu,\n",
        "        hk.Linear(64), jax.nn.elu,\n",
        "        hk.Linear(16), jax.nn.elu,\n",
        "        hk.Linear(num_actions)\n",
        "    ])\n",
        "\n",
        "  def __call__(self, s):\n",
        "    v = self.v_func(s)\n",
        "    logits = self.pi_func(s)\n",
        "    # logits = jax.nn.softmax(logits, axis=-1)\n",
        "    return v, logits\n",
        "\n",
        "\n",
        "class Dynamic(hk.Module):\n",
        "  def __init__(self, embedding_dim, num_actions, full_support_size, name='dynamic'):\n",
        "    super().__init__(name=name)\n",
        "\n",
        "    self.ns_func = hk.Sequential([\n",
        "        hk.Linear(64), jax.nn.elu,\n",
        "        hk.Linear(64), jax.nn.elu,\n",
        "        hk.Linear(16), jax.nn.elu,\n",
        "        hk.Linear(embedding_dim)\n",
        "    ])\n",
        "    self.r_func = hk.Sequential([\n",
        "        hk.Linear(64), jax.nn.elu,\n",
        "        hk.Linear(64), jax.nn.elu,\n",
        "        hk.Linear(16), jax.nn.elu,\n",
        "        hk.Linear(full_support_size)\n",
        "    ])\n",
        "    self.cat_func = jax.jit(lambda s, a:\n",
        "                            jnp.concatenate([s, jax.nn.one_hot(a, num_actions)],\n",
        "                                            axis=1)\n",
        "                            )\n",
        "\n",
        "  def __call__(self, s, a):\n",
        "    sa = self.cat_func(s, a)\n",
        "    r = self.r_func(sa)\n",
        "    ns = self.ns_func(sa)\n",
        "    ns = nn.min_max_normalize(ns)\n",
        "    return r, ns\n",
        "\n",
        "\n",
        "def init_representation_func(representation_module, embedding_dim):\n",
        "    def representation_func(obs):\n",
        "      repr_model = representation_module(embedding_dim)\n",
        "      return repr_model(obs)\n",
        "    return representation_func\n",
        "\n",
        "def init_prediction_func(prediction_module, num_actions, full_support_size):\n",
        "  def prediction_func(s):\n",
        "    pred_model = prediction_module(num_actions, full_support_size)\n",
        "    return pred_model(s)\n",
        "  return prediction_func\n",
        "\n",
        "def init_dynamic_func(dynamic_module, embedding_dim, num_actions, full_support_size):\n",
        "  def dynamic_func(s, a):\n",
        "    dy_model = dynamic_module(embedding_dim, num_actions, full_support_size)\n",
        "    return dy_model(s, a)\n",
        "  return dynamic_func"
      ]
    },
    {
      "cell_type": "code",
      "execution_count": null,
      "metadata": {
        "id": "fHpJLiCgIXR1"
      },
      "outputs": [],
      "source": [
        "support_size = 10\n",
        "embedding_size = 8\n",
        "full_support_size = int(support_size * 2 + 1)\n",
        "repr_fn = init_representation_func(Representation, embedding_size)\n",
        "pred_fn = init_prediction_func(Prediction, 2, full_support_size)\n",
        "dy_fn = init_dynamic_func(Dynamic, embedding_size, 2, full_support_size)"
      ]
    },
    {
      "cell_type": "markdown",
      "metadata": {
        "id": "85ez-RWWIXR1"
      },
      "source": [
        "## 2.2 Customize the training loop"
      ]
    },
    {
      "cell_type": "markdown",
      "metadata": {
        "id": "HR5bvL2ZIXR1"
      },
      "source": [
        "inside the `muax.fit` function, the main structure is a typical RL interacting loop. Reset the env, agent takes an action based on the observation, updated current state until done"
      ]
    },
    {
      "cell_type": "code",
      "execution_count": null,
      "metadata": {
        "id": "BvenwlWaIXR1"
      },
      "outputs": [],
      "source": [
        "import numpy as np\n",
        "from muax import Trajectory\n",
        "\n",
        "def temperature_fn(max_training_steps, training_steps):\n",
        "  if training_steps < 0.5 * max_training_steps:\n",
        "      return 1.0\n",
        "  elif training_steps < 0.75 * max_training_steps:\n",
        "      return 0.5\n",
        "  else:\n",
        "      return 0.25\n",
        "\n",
        "def test(model, env, key, num_simulations, num_test_episodes=10, random_seed=None):\n",
        "    total_rewards = np.zeros(num_test_episodes)\n",
        "    for episode in range(num_test_episodes):\n",
        "        obs, info = env.reset(seed=random_seed)\n",
        "        done = False\n",
        "        episode_reward = 0\n",
        "        for t in range(env.spec.max_episode_steps):\n",
        "            key, subkey = jax.random.split(key)\n",
        "            a = model.act(subkey, obs,\n",
        "                          with_pi=False,\n",
        "                          with_value=False,\n",
        "                          obs_from_batch=False,\n",
        "                          num_simulations=num_simulations,\n",
        "                          temperature=0.) # Use deterministic actions during testing\n",
        "            obs_next, r, done, truncated, info = env.step(a)\n",
        "            episode_reward += r\n",
        "            if done or truncated:\n",
        "                break\n",
        "            obs = obs_next\n",
        "\n",
        "        total_rewards[episode] = episode_reward\n",
        "\n",
        "    average_test_reward = np.mean(total_rewards)\n",
        "    return average_test_reward"
      ]
    },
    {
      "cell_type": "code",
      "execution_count": null,
      "metadata": {
        "id": "GWxYu6McIXR1"
      },
      "outputs": [],
      "source": [
        "from jax import numpy as jnp\n",
        "\n",
        "random_seed = 0\n",
        "discount = 0.997\n",
        "buffer_warm_up = 64\n",
        "max_training_steps = 10000\n",
        "max_episodes = 1000\n",
        "num_simulations = 50\n",
        "num_test_episodes = 10\n",
        "num_trajectory = 32\n",
        "sample_per_trajectory = 1\n",
        "k_steps = 10\n",
        "\n",
        "gradient_transform = muax.model.optimizer(init_value=0.02, peak_value=0.02, end_value=0.002, warmup_steps=5000, transition_steps=5000)\n",
        "tracer = muax.PNStep(10, discount, 0.5)\n",
        "buffer = muax.TrajectoryReplayBuffer(500)\n",
        "model = muax.MuZero(repr_fn, pred_fn, dy_fn, optimizer=gradient_transform, discount=discount)\n",
        "\n",
        "env_id = 'CartPole-v1'\n",
        "env = gym.make(env_id, render_mode='rgb_array')\n",
        "test_env = gym.make(env_id, render_mode='rgb_array')\n",
        "\n",
        "sample_input = jnp.expand_dims(jnp.zeros(env.observation_space.shape), axis=0)\n",
        "key = jax.random.PRNGKey(random_seed)\n",
        "key, test_key, subkey = jax.random.split(key, num=3)\n",
        "model.init(subkey, sample_input)\n",
        "\n",
        "training_step = 0\n",
        "best_test_G = -float('inf')\n",
        "max_training_steps_reached = False\n",
        "\n",
        "# buffer warm up\n",
        "print('buffer warm up stage...')\n",
        "while len(buffer) < buffer_warm_up:\n",
        "  obs, info = env.reset()\n",
        "  trajectory = Trajectory()\n",
        "  temperature = temperature_fn(max_training_steps=max_training_steps, training_steps=training_step)\n",
        "  for t in range(env.spec.max_episode_steps):\n",
        "    key, subkey = jax.random.split(key)\n",
        "    a, pi, v = model.act(subkey, obs,\n",
        "                          with_pi=True,\n",
        "                          with_value=True,\n",
        "                          obs_from_batch=False,\n",
        "                          num_simulations=num_simulations,\n",
        "                          temperature=temperature)\n",
        "    obs_next, r, done, truncated, info = env.step(a)\n",
        "    # if truncated:\n",
        "    #   r = 1 / (1 - tracer.gamma)\n",
        "    tracer.add(obs, a, r, done or truncated, v=v, pi=pi)\n",
        "    while tracer:\n",
        "      trans = tracer.pop()\n",
        "      trajectory.add(trans)\n",
        "    if done or truncated:\n",
        "      break\n",
        "    obs = obs_next\n",
        "  trajectory.finalize()\n",
        "  if len(trajectory) >= k_steps:\n",
        "    buffer.add(trajectory, trajectory.batched_transitions.w.mean())\n",
        "\n",
        "print('start training...')\n",
        "\n",
        "for ep in range(max_episodes):\n",
        "  obs, info = env.reset(seed=random_seed)\n",
        "  trajectory = Trajectory()\n",
        "  temperature = temperature_fn(max_training_steps=max_training_steps, training_steps=training_step)\n",
        "  for t in range(env.spec.max_episode_steps):\n",
        "    key, subkey = jax.random.split(key)\n",
        "    a, pi, v = model.act(subkey, obs,\n",
        "                          with_pi=True,\n",
        "                          with_value=True,\n",
        "                          obs_from_batch=False,\n",
        "                          num_simulations=num_simulations,\n",
        "                          temperature=temperature)\n",
        "    obs_next, r, done, truncated, info = env.step(a)\n",
        "    # if truncated:\n",
        "    #   r = 1 / (1 - tracer.gamma)\n",
        "    tracer.add(obs, a, r, done or truncated, v=v, pi=pi)\n",
        "    while tracer:\n",
        "      trans = tracer.pop()\n",
        "      trajectory.add(trans)\n",
        "    if done or truncated:\n",
        "      break\n",
        "    obs = obs_next\n",
        "  trajectory.finalize()\n",
        "  if len(trajectory) >= k_steps:\n",
        "    buffer.add(trajectory, trajectory.batched_transitions.w.mean())\n",
        "\n",
        "  if max_training_steps_reached:\n",
        "    break\n",
        "  train_loss = 0\n",
        "  for _ in range(50):\n",
        "    transition_batch = buffer.sample(num_trajectory=num_trajectory,\n",
        "                                      sample_per_trajectory=sample_per_trajectory,\n",
        "                                      k_steps=k_steps)\n",
        "    loss_metric = model.update(transition_batch)\n",
        "    train_loss += loss_metric['loss']\n",
        "    training_step += 1\n",
        "    if training_step >= max_training_steps:\n",
        "      max_training_steps_reached = True\n",
        "      break\n",
        "  train_loss /= 50\n",
        "  print(f'epoch: {ep:04d}, loss: {train_loss:.8f}, training_step: {training_step}')\n",
        "\n",
        "  test_G = test(model, test_env, test_key, num_simulations=num_simulations, num_test_episodes=num_test_episodes)\n",
        "  print(f'epoch: {ep:04d}, test_G: {test_G:.8f}')\n",
        "  if test_G >= best_test_G:\n",
        "    best_test_G = test_G\n",
        "\n",
        "print(f'Best total reward in test: {best_test_G}')"
      ]
    },
    {
      "cell_type": "code",
      "execution_count": null,
      "metadata": {
        "id": "2IPJkGx0IXR2"
      },
      "outputs": [],
      "source": []
    }
  ],
  "metadata": {
    "colab": {
      "provenance": []
    },
    "kernelspec": {
      "display_name": "base",
      "language": "python",
      "name": "python3"
    },
    "language_info": {
      "codemirror_mode": {
        "name": "ipython",
        "version": 3
      },
      "file_extension": ".py",
      "mimetype": "text/x-python",
      "name": "python",
      "nbconvert_exporter": "python",
      "pygments_lexer": "ipython3",
      "version": "3.9.18"
    },
    "orig_nbformat": 4
  },
  "nbformat": 4,
  "nbformat_minor": 0
}